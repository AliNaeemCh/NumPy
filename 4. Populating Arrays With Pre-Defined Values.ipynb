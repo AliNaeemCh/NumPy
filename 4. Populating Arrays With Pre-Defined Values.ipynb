{
 "cells": [
  {
   "cell_type": "markdown",
   "id": "0a2ad6f1",
   "metadata": {},
   "source": [
    "# Populating Arrays With Pre-Defined Values\n"
   ]
  },
  {
   "cell_type": "code",
   "execution_count": 1,
   "id": "fe0d2e47",
   "metadata": {},
   "outputs": [],
   "source": [
    "import numpy as np"
   ]
  },
  {
   "cell_type": "code",
   "execution_count": 2,
   "id": "d945bdfd",
   "metadata": {},
   "outputs": [
    {
     "name": "stdout",
     "output_type": "stream",
     "text": [
      "All zeros matrix with 2 rows and 3 columns:\n"
     ]
    },
    {
     "data": {
      "text/plain": [
       "array([[0., 0., 0.],\n",
       "       [0., 0., 0.]])"
      ]
     },
     "execution_count": 2,
     "metadata": {},
     "output_type": "execute_result"
    }
   ],
   "source": [
    "# All zeros matrix\n",
    "a = np.zeros( (2,3) )\n",
    "print('All zeros matrix with 2 rows and 3 columns:')  #Default datatype: float64\n",
    "a"
   ]
  },
  {
   "cell_type": "code",
   "execution_count": 3,
   "id": "0bf45c3f",
   "metadata": {},
   "outputs": [
    {
     "name": "stdout",
     "output_type": "stream",
     "text": [
      "All ones matrix with 3 rows and 2 columns and int8 as datatype:\n",
      "[[1 1]\n",
      " [1 1]\n",
      " [1 1]]\n"
     ]
    }
   ],
   "source": [
    "# All ones matrix\n",
    "b = np.ones( (3,2), dtype='int8' )\n",
    "print('All ones matrix with 3 rows and 2 columns and int8 as datatype:')\n",
    "print(b)"
   ]
  },
  {
   "cell_type": "code",
   "execution_count": 4,
   "id": "64c6ed77",
   "metadata": {},
   "outputs": [
    {
     "data": {
      "text/plain": [
       "array([[100, 100, 100],\n",
       "       [100, 100, 100],\n",
       "       [100, 100, 100]])"
      ]
     },
     "execution_count": 4,
     "metadata": {},
     "output_type": "execute_result"
    }
   ],
   "source": [
    "# All custom number matrix\n",
    "c = np.full((3,3), 100)  #Default dtype = int32\n",
    "c"
   ]
  },
  {
   "cell_type": "code",
   "execution_count": 5,
   "id": "88c5dd71",
   "metadata": {},
   "outputs": [
    {
     "name": "stdout",
     "output_type": "stream",
     "text": [
      "method 1 output:\n",
      "[[200 200 200]\n",
      " [200 200 200]]\n",
      "method 2 output:\n",
      "[[200 200 200]\n",
      " [200 200 200]]\n"
     ]
    }
   ],
   "source": [
    "# All custom number matrix with shape of some other matrix\n",
    "d = np.full_like(a, 200, dtype='int32')\n",
    "print('method 1 output:')\n",
    "print(d)\n",
    "e = np.full(a.shape,200)\n",
    "print('method 2 output:')\n",
    "print(e)"
   ]
  },
  {
   "cell_type": "code",
   "execution_count": 6,
   "id": "aa5e2e3c",
   "metadata": {},
   "outputs": [
    {
     "data": {
      "text/plain": [
       "array([[0.30607131, 0.08860997, 0.49379904, 0.90789765, 0.53216633],\n",
       "       [0.60890259, 0.17024481, 0.07901217, 0.533102  , 0.48871684],\n",
       "       [0.41548247, 0.39290214, 0.83161588, 0.49770173, 0.76644734],\n",
       "       [0.36329221, 0.95910516, 0.31236449, 0.06988467, 0.84442347]])"
      ]
     },
     "execution_count": 6,
     "metadata": {},
     "output_type": "execute_result"
    }
   ],
   "source": [
    "# Random decimal numbers (0-1) array\n",
    "f = np.random.rand(4,5)\n",
    "f"
   ]
  },
  {
   "cell_type": "code",
   "execution_count": 7,
   "id": "7dba7c9c",
   "metadata": {},
   "outputs": [
    {
     "data": {
      "text/plain": [
       "array([[0.5146155 , 0.5171477 , 0.19171337],\n",
       "       [0.38181709, 0.05832839, 0.30665805]])"
      ]
     },
     "execution_count": 7,
     "metadata": {},
     "output_type": "execute_result"
    }
   ],
   "source": [
    "# Random decimal numbers (0-1) array with shape of other matrix\n",
    "g = np.random.random_sample(a.shape)\n",
    "g"
   ]
  },
  {
   "cell_type": "code",
   "execution_count": 8,
   "id": "cdd57b82",
   "metadata": {},
   "outputs": [
    {
     "name": "stdout",
     "output_type": "stream",
     "text": [
      "Single non-negative random integer less than 7: 1\n",
      "Single positive random integer less than 7: 3\n",
      "Array of dimensions 5x5 with random integers greater than equal to -100 and less than 0\n",
      "[[-72 -42 -97  -4 -88]\n",
      " [-67 -92 -36 -64 -94]\n",
      " [-65 -73 -16 -30 -43]\n",
      " [-44  -2 -58 -94 -67]\n",
      " [-83 -53  -3 -14 -82]]\n"
     ]
    }
   ],
   "source": [
    "# Random integer\n",
    "h = np.random.randint(7)  # By default, lower limit is 0: Includes 0, excludes 7\n",
    "print('Single non-negative random integer less than 7:', h)\n",
    "i = np.random.randint(1,7)\n",
    "print('Single positive random integer less than 7:', i)  #Includes 1, excludes 7\n",
    "j = np.random.randint(-100,0, size=(5,5))\n",
    "print('Array of dimensions 5x5 with random integers greater than equal to -100 and less than 0')\n",
    "print(j)"
   ]
  },
  {
   "cell_type": "code",
   "execution_count": 9,
   "id": "949cef6f",
   "metadata": {},
   "outputs": [
    {
     "data": {
      "text/plain": [
       "array([[1., 0., 0.],\n",
       "       [0., 1., 0.],\n",
       "       [0., 0., 1.]])"
      ]
     },
     "execution_count": 9,
     "metadata": {},
     "output_type": "execute_result"
    }
   ],
   "source": [
    "# Identity matrix\n",
    "k = np.identity(3)\n",
    "k"
   ]
  },
  {
   "cell_type": "code",
   "execution_count": 10,
   "id": "fa4ae71d",
   "metadata": {},
   "outputs": [
    {
     "name": "stdout",
     "output_type": "stream",
     "text": [
      "arange function in action with default starting point and step size: \n",
      "[0 1 2 3 4]\n",
      "arange function in action with step size: \n",
      "[ 1  2  3  4  5  6  7  8  9 10]\n",
      "arange function in action with starting point 0, ending point 11 and step size 2:\n",
      "[ 0  2  4  6  8 10]\n"
     ]
    }
   ],
   "source": [
    "# Range of numbers with int step [start:end)\n",
    "# np.arange(start, end, step)\n",
    "l = np.arange(5)  #Endpoint = 5, Default start = 0, step = 1\n",
    "print('arange function in action with default starting point and step size: ')\n",
    "print(l)\n",
    "m = np.arange(1,11)\n",
    "print('arange function in action with step size: ')\n",
    "print(m)\n",
    "n = np.arange(0,11,2)\n",
    "print('arange function in action with starting point 0, ending point 11 and step size 2:')\n",
    "print(n)"
   ]
  },
  {
   "cell_type": "code",
   "execution_count": 11,
   "id": "b43c456e",
   "metadata": {},
   "outputs": [
    {
     "name": "stdout",
     "output_type": "stream",
     "text": [
      "linspace function in action with default samples of 50:\n",
      "[ 1.  2.  3.  4.  5.  6.  7.  8.  9. 10. 11. 12. 13. 14. 15. 16. 17. 18.\n",
      " 19. 20. 21. 22. 23. 24. 25. 26. 27. 28. 29. 30. 31. 32. 33. 34. 35. 36.\n",
      " 37. 38. 39. 40. 41. 42. 43. 44. 45. 46. 47. 48. 49. 50.]\n",
      "linspace function in action with 100 values ranging from 0 to 1:\n",
      "[0.         0.01010101 0.02020202 0.03030303 0.04040404 0.05050505\n",
      " 0.06060606 0.07070707 0.08080808 0.09090909 0.1010101  0.11111111\n",
      " 0.12121212 0.13131313 0.14141414 0.15151515 0.16161616 0.17171717\n",
      " 0.18181818 0.19191919 0.2020202  0.21212121 0.22222222 0.23232323\n",
      " 0.24242424 0.25252525 0.26262626 0.27272727 0.28282828 0.29292929\n",
      " 0.3030303  0.31313131 0.32323232 0.33333333 0.34343434 0.35353535\n",
      " 0.36363636 0.37373737 0.38383838 0.39393939 0.4040404  0.41414141\n",
      " 0.42424242 0.43434343 0.44444444 0.45454545 0.46464646 0.47474747\n",
      " 0.48484848 0.49494949 0.50505051 0.51515152 0.52525253 0.53535354\n",
      " 0.54545455 0.55555556 0.56565657 0.57575758 0.58585859 0.5959596\n",
      " 0.60606061 0.61616162 0.62626263 0.63636364 0.64646465 0.65656566\n",
      " 0.66666667 0.67676768 0.68686869 0.6969697  0.70707071 0.71717172\n",
      " 0.72727273 0.73737374 0.74747475 0.75757576 0.76767677 0.77777778\n",
      " 0.78787879 0.7979798  0.80808081 0.81818182 0.82828283 0.83838384\n",
      " 0.84848485 0.85858586 0.86868687 0.87878788 0.88888889 0.8989899\n",
      " 0.90909091 0.91919192 0.92929293 0.93939394 0.94949495 0.95959596\n",
      " 0.96969697 0.97979798 0.98989899 1.        ]\n"
     ]
    }
   ],
   "source": [
    "# Range of numbers with decimal step #\n",
    "# np.linspace(start,stop,total_samples) (Default total_samples = 50)\n",
    "# Step size can be calculated as: (stop-start)/(total_samples-1) (Note: both start and stop are included in the output)\n",
    "o = np.linspace(1,50)\n",
    "print('linspace function in action with default samples of 50:')\n",
    "print(o)\n",
    "p = np.linspace(0,1,100)\n",
    "print('linspace function in action with 100 values ranging from 0 to 1:')\n",
    "print(p)"
   ]
  }
 ],
 "metadata": {
  "kernelspec": {
   "display_name": "Python 3 (ipykernel)",
   "language": "python",
   "name": "python3"
  },
  "language_info": {
   "codemirror_mode": {
    "name": "ipython",
    "version": 3
   },
   "file_extension": ".py",
   "mimetype": "text/x-python",
   "name": "python",
   "nbconvert_exporter": "python",
   "pygments_lexer": "ipython3",
   "version": "3.11.7"
  }
 },
 "nbformat": 4,
 "nbformat_minor": 5
}
