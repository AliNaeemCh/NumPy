{
 "cells": [
  {
   "cell_type": "markdown",
   "id": "759960bc",
   "metadata": {},
   "source": [
    "# Stacking of Arrays"
   ]
  },
  {
   "cell_type": "code",
   "execution_count": 1,
   "id": "ec5aa051",
   "metadata": {},
   "outputs": [],
   "source": [
    "import numpy as np"
   ]
  },
  {
   "cell_type": "code",
   "execution_count": 8,
   "id": "3c887370",
   "metadata": {},
   "outputs": [
    {
     "name": "stdout",
     "output_type": "stream",
     "text": [
      "a is:\n",
      " [[ 0  1  2]\n",
      " [ 3  4  5]\n",
      " [ 6  7  8]\n",
      " [ 9 10 11]]\n",
      "b is:\n",
      " [[-8 -7]\n",
      " [-6 -5]\n",
      " [-4 -3]\n",
      " [-2 -1]]\n",
      "a horizontally stacked with b is:\n",
      " [[ 0  1  2 -8 -7]\n",
      " [ 3  4  5 -6 -5]\n",
      " [ 6  7  8 -4 -3]\n",
      " [ 9 10 11 -2 -1]]\n",
      "a horizontally stacked with b two times each is:\n",
      " [[ 0  1  2  0  1  2 -8 -7 -8 -7]\n",
      " [ 3  4  5  3  4  5 -6 -5 -6 -5]\n",
      " [ 6  7  8  6  7  8 -4 -3 -4 -3]\n",
      " [ 9 10 11  9 10 11 -2 -1 -2 -1]]\n"
     ]
    }
   ],
   "source": [
    "# Horizontal stacking (Rows must be equal)\n",
    "a = np.arange(0,12).reshape(4,3)\n",
    "b = np.arange(-8,0).reshape(4,2)\n",
    "print('a is:\\n', a)\n",
    "print('b is:\\n', b)\n",
    "ab_h = np.hstack( (a,b) )\n",
    "print('a horizontally stacked with b is:\\n', ab_h)\n",
    "aabb_h = np.hstack( (a,a,b,b) )\n",
    "print('a horizontally stacked with b two times each is:\\n', aabb_h)"
   ]
  },
  {
   "cell_type": "code",
   "execution_count": 10,
   "id": "ff631d96",
   "metadata": {},
   "outputs": [
    {
     "name": "stdout",
     "output_type": "stream",
     "text": [
      "a is:\n",
      " [[ 0  1]\n",
      " [ 2  3]\n",
      " [ 4  5]\n",
      " [ 6  7]\n",
      " [ 8  9]\n",
      " [10 11]]\n",
      "b is:\n",
      " [[-8 -7]\n",
      " [-6 -5]\n",
      " [-4 -3]\n",
      " [-2 -1]]\n",
      "a vertically stacked with b is:\n",
      " [[ 0  1]\n",
      " [ 2  3]\n",
      " [ 4  5]\n",
      " [ 6  7]\n",
      " [ 8  9]\n",
      " [10 11]\n",
      " [-8 -7]\n",
      " [-6 -5]\n",
      " [-4 -3]\n",
      " [-2 -1]]\n",
      "a vertically stacked with b two times each is:\n",
      " [[ 0  1]\n",
      " [ 2  3]\n",
      " [ 4  5]\n",
      " [ 6  7]\n",
      " [ 8  9]\n",
      " [10 11]\n",
      " [ 0  1]\n",
      " [ 2  3]\n",
      " [ 4  5]\n",
      " [ 6  7]\n",
      " [ 8  9]\n",
      " [10 11]\n",
      " [-8 -7]\n",
      " [-6 -5]\n",
      " [-4 -3]\n",
      " [-2 -1]\n",
      " [-8 -7]\n",
      " [-6 -5]\n",
      " [-4 -3]\n",
      " [-2 -1]]\n"
     ]
    }
   ],
   "source": [
    "# Vertical stacking (Columns must be equal)\n",
    "a = np.arange(0,12).reshape(6,2)\n",
    "b = np.arange(-8,0).reshape(4,2)\n",
    "print('a is:\\n', a)\n",
    "print('b is:\\n', b)\n",
    "ab_v = np.vstack( (a,b) )\n",
    "print('a vertically stacked with b is:\\n', ab_v)\n",
    "aabb_v = np.vstack( (a,a,b,b) )\n",
    "print('a vertically stacked with b two times each is:\\n', aabb_v)"
   ]
  }
 ],
 "metadata": {
  "kernelspec": {
   "display_name": "Python 3 (ipykernel)",
   "language": "python",
   "name": "python3"
  },
  "language_info": {
   "codemirror_mode": {
    "name": "ipython",
    "version": 3
   },
   "file_extension": ".py",
   "mimetype": "text/x-python",
   "name": "python",
   "nbconvert_exporter": "python",
   "pygments_lexer": "ipython3",
   "version": "3.11.7"
  }
 },
 "nbformat": 4,
 "nbformat_minor": 5
}
