{
 "cells": [
  {
   "cell_type": "markdown",
   "id": "24811f8f",
   "metadata": {},
   "source": [
    "# Introducing 3D Arrays"
   ]
  },
  {
   "cell_type": "code",
   "execution_count": 1,
   "id": "516839ab",
   "metadata": {},
   "outputs": [],
   "source": [
    "import numpy as np"
   ]
  },
  {
   "cell_type": "code",
   "execution_count": 2,
   "id": "2b22bd39",
   "metadata": {},
   "outputs": [
    {
     "name": "stdout",
     "output_type": "stream",
     "text": [
      "3d array with two 2d arrays with dimensions 2x3:\n"
     ]
    },
    {
     "data": {
      "text/plain": [
       "array([[[ 1,  2,  3],\n",
       "        [ 4,  5,  6]],\n",
       "\n",
       "       [[ 7,  8,  9],\n",
       "        [10, 11, 12]]])"
      ]
     },
     "execution_count": 2,
     "metadata": {},
     "output_type": "execute_result"
    }
   ],
   "source": [
    "a = np.array([ [ [1,2,3], [4,5,6]  ], [ [7,8,9], [10,11,12] ]  ])\n",
    "print('3d array with two 2d arrays with dimensions 2x3:')\n",
    "a"
   ]
  },
  {
   "cell_type": "code",
   "execution_count": 3,
   "id": "5cce24ee",
   "metadata": {},
   "outputs": [
    {
     "name": "stdout",
     "output_type": "stream",
     "text": [
      "element from first row and second column of first 2d array: 2\n"
     ]
    }
   ],
   "source": [
    "# Accessing element corresponding to first 2d array's first row and second column\n",
    "a_001 = a[0,0,1]\n",
    "print('element from first row and second column of first 2d array:', a_001)"
   ]
  },
  {
   "cell_type": "code",
   "execution_count": 4,
   "id": "921235f8",
   "metadata": {},
   "outputs": [
    {
     "name": "stdout",
     "output_type": "stream",
     "text": [
      "a after the last two elements from the last row of last 2d array are edited:\n"
     ]
    },
    {
     "data": {
      "text/plain": [
       "array([[[  1,   2,   3],\n",
       "        [  4,   5,   6]],\n",
       "\n",
       "       [[  7,   8,   9],\n",
       "        [ 10, 100, 200]]])"
      ]
     },
     "execution_count": 4,
     "metadata": {},
     "output_type": "execute_result"
    }
   ],
   "source": [
    "# Editing range of elements\n",
    "a_edit1 = a.copy()\n",
    "a_edit1[-1,-1,1:3] = [100,200]\n",
    "print('a after the last two elements from the last row of last 2d array are edited:')\n",
    "a_edit1"
   ]
  },
  {
   "cell_type": "code",
   "execution_count": 6,
   "id": "897c8e20",
   "metadata": {},
   "outputs": [
    {
     "name": "stdout",
     "output_type": "stream",
     "text": [
      "First columns from all 2d arrays\n"
     ]
    },
    {
     "data": {
      "text/plain": [
       "array([[ 2,  5],\n",
       "       [ 8, 11]])"
      ]
     },
     "execution_count": 6,
     "metadata": {},
     "output_type": "execute_result"
    }
   ],
   "source": [
    "# Accessing elements across 2d arrays\n",
    "a__1 = a[:,:,1]\n",
    "print('First columns from all 2d arrays')\n",
    "a__1"
   ]
  },
  {
   "cell_type": "code",
   "execution_count": 7,
   "id": "dc7a58fb",
   "metadata": {},
   "outputs": [
    {
     "name": "stdout",
     "output_type": "stream",
     "text": [
      "a after second rows from all 2d arrays are edited:\n"
     ]
    },
    {
     "data": {
      "text/plain": [
       "array([[[  1,   2,   3],\n",
       "        [100, 200, 300]],\n",
       "\n",
       "       [[  7,   8,   9],\n",
       "        [400, 500, 600]]])"
      ]
     },
     "execution_count": 7,
     "metadata": {},
     "output_type": "execute_result"
    }
   ],
   "source": [
    "# Editing elements across 2d arrays\n",
    "a_edit2 = a.copy()\n",
    "a_edit2[:,1,:] = [ [100,200,300], [400,500,600] ]\n",
    "print('a after second rows from all 2d arrays are edited:')\n",
    "a_edit2"
   ]
  }
 ],
 "metadata": {
  "kernelspec": {
   "display_name": "Python 3 (ipykernel)",
   "language": "python",
   "name": "python3"
  },
  "language_info": {
   "codemirror_mode": {
    "name": "ipython",
    "version": 3
   },
   "file_extension": ".py",
   "mimetype": "text/x-python",
   "name": "python",
   "nbconvert_exporter": "python",
   "pygments_lexer": "ipython3",
   "version": "3.11.7"
  }
 },
 "nbformat": 4,
 "nbformat_minor": 5
}
