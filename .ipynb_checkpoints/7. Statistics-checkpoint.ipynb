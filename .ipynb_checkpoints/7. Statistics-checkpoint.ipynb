{
 "cells": [
  {
   "cell_type": "markdown",
   "id": "4d6446cf",
   "metadata": {},
   "source": [
    "# Statistics"
   ]
  },
  {
   "cell_type": "code",
   "execution_count": 3,
   "id": "c495713c",
   "metadata": {},
   "outputs": [],
   "source": [
    "import numpy as np"
   ]
  },
  {
   "cell_type": "code",
   "execution_count": 4,
   "id": "0e0ecaf8",
   "metadata": {},
   "outputs": [
    {
     "data": {
      "text/plain": [
       "[[1, 2, 3, 4, 5],\n",
       " [0, -1, -2, -3, -4],\n",
       " [6, 7, 8, 9, 10],\n",
       " [20, -12, 100, -100, 50]]"
      ]
     },
     "execution_count": 4,
     "metadata": {},
     "output_type": "execute_result"
    }
   ],
   "source": [
    "a = [ [1,2,3,4,5], [0,-1,-2,-3,-4], [6,7,8,9,10], [20,-12,100,-100,50] ]\n",
    "a"
   ]
  },
  {
   "cell_type": "code",
   "execution_count": 5,
   "id": "805e8df2",
   "metadata": {},
   "outputs": [
    {
     "name": "stdout",
     "output_type": "stream",
     "text": [
      "max value in array is: 100\n"
     ]
    }
   ],
   "source": [
    "# Max value in the array\n",
    "max = np.max(a)\n",
    "print('max value in array is:', max)"
   ]
  },
  {
   "cell_type": "code",
   "execution_count": 6,
   "id": "20c9fd41",
   "metadata": {},
   "outputs": [
    {
     "name": "stdout",
     "output_type": "stream",
     "text": [
      "min value in array is: -100\n"
     ]
    }
   ],
   "source": [
    "# Min value in the array\n",
    "min = np.min(a)\n",
    "print('min value in array is:', min)"
   ]
  },
  {
   "cell_type": "code",
   "execution_count": 7,
   "id": "4c95880a",
   "metadata": {},
   "outputs": [
    {
     "name": "stdout",
     "output_type": "stream",
     "text": [
      "min values in each column of array is:\n",
      " [   0  -12   -2 -100   -4]\n"
     ]
    }
   ],
   "source": [
    "# Min value in each column\n",
    "min_c = np.min(a, axis=0)\n",
    "print('min values in each column of array is:\\n', min_c)"
   ]
  },
  {
   "cell_type": "code",
   "execution_count": 8,
   "id": "63d498f5",
   "metadata": {},
   "outputs": [
    {
     "name": "stdout",
     "output_type": "stream",
     "text": [
      "min values in each row of array is:\n",
      " [   1   -4    6 -100]\n"
     ]
    }
   ],
   "source": [
    "# Min value in each row\n",
    "min_r = np.min(a, axis=1)\n",
    "print('min values in each row of array is:\\n', min_r)"
   ]
  },
  {
   "cell_type": "code",
   "execution_count": 11,
   "id": "9c9421a5",
   "metadata": {},
   "outputs": [
    {
     "name": "stdout",
     "output_type": "stream",
     "text": [
      "max values in each column of array is:\n",
      " [ 20   7 100   9  50]\n"
     ]
    }
   ],
   "source": [
    "# Max value in each column\n",
    "max_c = np.max(a, axis=0)\n",
    "print('max values in each column of array is:\\n', max_c)"
   ]
  },
  {
   "cell_type": "code",
   "execution_count": 12,
   "id": "87d6ee0f",
   "metadata": {},
   "outputs": [
    {
     "name": "stdout",
     "output_type": "stream",
     "text": [
      "max values in each row of array is:\n",
      " [  5   0  10 100]\n"
     ]
    }
   ],
   "source": [
    "# Max value in each row\n",
    "max_r = np.max(a, axis=1)\n",
    "print('max values in each row of array is:\\n', max_r)"
   ]
  },
  {
   "cell_type": "code",
   "execution_count": 14,
   "id": "e2a308cd",
   "metadata": {},
   "outputs": [
    {
     "name": "stdout",
     "output_type": "stream",
     "text": [
      "sum of all elements is: 103\n"
     ]
    }
   ],
   "source": [
    "# Sum of all elements\n",
    "sum = np.sum(a)\n",
    "print('sum of all elements is:', sum)"
   ]
  },
  {
   "cell_type": "code",
   "execution_count": 15,
   "id": "9a689d3d",
   "metadata": {},
   "outputs": [
    {
     "name": "stdout",
     "output_type": "stream",
     "text": [
      "sum of all elements in each row is:\n",
      " [ 15 -10  40  58]\n"
     ]
    }
   ],
   "source": [
    "# Sum of all elements in each row\n",
    "sum_r = np.sum(a, axis=1)\n",
    "print('sum of all elements in each row is:\\n', sum_r)"
   ]
  },
  {
   "cell_type": "code",
   "execution_count": 16,
   "id": "2c44c7ab",
   "metadata": {},
   "outputs": [
    {
     "name": "stdout",
     "output_type": "stream",
     "text": [
      "sum of all elements in each column is:\n",
      " [ 27  -4 109 -90  61]\n"
     ]
    }
   ],
   "source": [
    "# Sum of all elements in each column\n",
    "sum_c = np.sum(a, axis=0)\n",
    "print('sum of all elements in each column is:\\n', sum_c)"
   ]
  }
 ],
 "metadata": {
  "kernelspec": {
   "display_name": "Python 3 (ipykernel)",
   "language": "python",
   "name": "python3"
  },
  "language_info": {
   "codemirror_mode": {
    "name": "ipython",
    "version": 3
   },
   "file_extension": ".py",
   "mimetype": "text/x-python",
   "name": "python",
   "nbconvert_exporter": "python",
   "pygments_lexer": "ipython3",
   "version": "3.11.7"
  }
 },
 "nbformat": 4,
 "nbformat_minor": 5
}
