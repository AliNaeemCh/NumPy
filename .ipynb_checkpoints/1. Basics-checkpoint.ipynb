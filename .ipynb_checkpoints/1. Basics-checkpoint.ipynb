{
 "cells": [
  {
   "cell_type": "markdown",
   "id": "3673e45b-cee6-495e-976e-6f35876bb995",
   "metadata": {},
   "source": [
    "# Getting Started with Numpy"
   ]
  },
  {
   "cell_type": "code",
   "execution_count": 1,
   "id": "54cc3b5a-999d-4330-b1fb-58d13bfaa97c",
   "metadata": {},
   "outputs": [],
   "source": [
    "import numpy as np"
   ]
  },
  {
   "cell_type": "code",
   "execution_count": 2,
   "id": "1b50d7d3-fad7-4bbe-8282-95ce1a2e4f40",
   "metadata": {},
   "outputs": [
    {
     "name": "stdout",
     "output_type": "stream",
     "text": [
      "[1 2 3]\n"
     ]
    }
   ],
   "source": [
    "# 1D Array\n",
    "a = np.array([1,2,3])\n",
    "print(a)"
   ]
  },
  {
   "cell_type": "code",
   "execution_count": 3,
   "id": "22af7eb3-a928-47c7-a4b5-6e72ccee2a6f",
   "metadata": {},
   "outputs": [
    {
     "name": "stdout",
     "output_type": "stream",
     "text": [
      "b is: [[1 2 3]\n",
      " [4 5 6]]\n",
      "c is: [[1 2 3]]\n",
      "d is: [[1]\n",
      " [2]\n",
      " [3]]\n"
     ]
    }
   ],
   "source": [
    "# 2D Array\n",
    "b = np.array([ [1,2,3], [4,5,6] ])     # 2x3 matrix\n",
    "c = np.array([ [1,2,3] ])              # 1x3 matrix (A row vector)\n",
    "d = np.array([ [1], [2], [3] ])        # 3x1 matrix (A column vector)\n",
    "print('b is:', b)\n",
    "print('c is:', c)\n",
    "print('d is:', d)"
   ]
  },
  {
   "cell_type": "code",
   "execution_count": 4,
   "id": "8345bac4-f4b6-42ab-9630-840e8962e7f5",
   "metadata": {},
   "outputs": [
    {
     "name": "stdout",
     "output_type": "stream",
     "text": [
      "a has dimensions: 1\n",
      "b has dimensions: 2\n",
      "c has dimensions: 2\n",
      "d has dimensions: 2\n"
     ]
    }
   ],
   "source": [
    "# Get dimensions\n",
    "print('a has dimensions:', a.ndim)\n",
    "print('b has dimensions:', b.ndim)\n",
    "print('c has dimensions:', c.ndim)\n",
    "print('d has dimensions:', d.ndim)"
   ]
  },
  {
   "cell_type": "code",
   "execution_count": 5,
   "id": "e615c557",
   "metadata": {},
   "outputs": [
    {
     "name": "stdout",
     "output_type": "stream",
     "text": [
      "[1,2,3] has elements: 3\n",
      "[[1,2,3],[4,5,6]] has elements: 6\n"
     ]
    }
   ],
   "source": [
    "# Getting No. of elements in array\n",
    "print('[1,2,3] has elements:', a.size)\n",
    "print('[[1,2,3],[4,5,6]] has elements:', b.size)"
   ]
  },
  {
   "cell_type": "code",
   "execution_count": 6,
   "id": "49f14f96-830d-4b4b-856c-856c1ea5def3",
   "metadata": {},
   "outputs": [
    {
     "name": "stdout",
     "output_type": "stream",
     "text": [
      "a has shape: (3,)\n",
      "b has shape: (2, 3)\n",
      "c has shape: (1, 3)\n",
      "d has shape: (3, 1)\n"
     ]
    }
   ],
   "source": [
    "# Get shape (rows, columns)\n",
    "print('a has shape:', a.shape)\n",
    "print('b has shape:', b.shape)\n",
    "print('c has shape:', c.shape)\n",
    "print('d has shape:', d.shape)"
   ]
  },
  {
   "cell_type": "code",
   "execution_count": 7,
   "id": "21f2efd6-e8bd-457a-bf37-5d218ad367a5",
   "metadata": {},
   "outputs": [
    {
     "name": "stdout",
     "output_type": "stream",
     "text": [
      "Default int data type is: int32\n",
      "Custom int data type is: int8\n",
      "Default float data type is: float64\n",
      "Custom float data type is: float32\n"
     ]
    }
   ],
   "source": [
    "# Defining the data type and size of array element\n",
    "e = np.array([1,2,3])\n",
    "print('Default int data type is:',e.dtype)\n",
    "f = np.array([1,2,3], dtype='int8')\n",
    "print('Custom int data type is:',f.dtype)\n",
    "g = np.array([1.0, 2.0, 3.0])\n",
    "print('Default float data type is:',g.dtype)\n",
    "h = np.array([1.0, 2.0, 3.0], dtype='float32')\n",
    "print('Custom float data type is:',h.dtype)"
   ]
  },
  {
   "cell_type": "markdown",
   "id": "4f134e3a",
   "metadata": {},
   "source": [
    "- #### int8 means signed integer with 8 bits or 1 byte. It can hold integers from ( -2^8 ) / 2 to (2^8) / 2 - 1 i-e -128 to 127"
   ]
  },
  {
   "cell_type": "code",
   "execution_count": 8,
   "id": "a61f8127",
   "metadata": {},
   "outputs": [
    {
     "name": "stdout",
     "output_type": "stream",
     "text": [
      "int8 each element size is in bytes is: 1\n",
      "All 3 elements in the int8 array has size in bytes: 3\n"
     ]
    }
   ],
   "source": [
    "# Getting sizes in bytes\n",
    "print('int8 each element size is in bytes is:', f.itemsize)\n",
    "print('All 3 elements in the int8 array has size in bytes:', f.nbytes)  # No.of elements x Size per element"
   ]
  }
 ],
 "metadata": {
  "kernelspec": {
   "display_name": "Python 3 (ipykernel)",
   "language": "python",
   "name": "python3"
  },
  "language_info": {
   "codemirror_mode": {
    "name": "ipython",
    "version": 3
   },
   "file_extension": ".py",
   "mimetype": "text/x-python",
   "name": "python",
   "nbconvert_exporter": "python",
   "pygments_lexer": "ipython3",
   "version": "3.11.7"
  }
 },
 "nbformat": 4,
 "nbformat_minor": 5
}
