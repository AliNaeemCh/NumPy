{
 "cells": [
  {
   "cell_type": "markdown",
   "id": "43b665db",
   "metadata": {},
   "source": [
    "# Element Wise Operations\n",
    "## These operations are applied to every element in the array"
   ]
  },
  {
   "cell_type": "code",
   "execution_count": 1,
   "id": "1ef852e4",
   "metadata": {},
   "outputs": [],
   "source": [
    "import numpy as np"
   ]
  },
  {
   "cell_type": "code",
   "execution_count": 2,
   "id": "cdda0e89",
   "metadata": {},
   "outputs": [
    {
     "data": {
      "text/plain": [
       "array([[1, 2, 3],\n",
       "       [4, 5, 6],\n",
       "       [7, 8, 9]])"
      ]
     },
     "execution_count": 2,
     "metadata": {},
     "output_type": "execute_result"
    }
   ],
   "source": [
    "a = np.array([ [1,2,3], [4,5,6], [7,8,9] ])\n",
    "a"
   ]
  },
  {
   "cell_type": "code",
   "execution_count": 3,
   "id": "03f24aae",
   "metadata": {},
   "outputs": [
    {
     "data": {
      "text/plain": [
       "array([[101, 102, 103],\n",
       "       [104, 105, 106],\n",
       "       [107, 108, 109]])"
      ]
     },
     "execution_count": 3,
     "metadata": {},
     "output_type": "execute_result"
    }
   ],
   "source": [
    "# Addition\n",
    "a+100"
   ]
  },
  {
   "cell_type": "code",
   "execution_count": 4,
   "id": "43fe6748",
   "metadata": {},
   "outputs": [
    {
     "data": {
      "text/plain": [
       "array([[-99, -98, -97],\n",
       "       [-96, -95, -94],\n",
       "       [-93, -92, -91]])"
      ]
     },
     "execution_count": 4,
     "metadata": {},
     "output_type": "execute_result"
    }
   ],
   "source": [
    "# Subtraction\n",
    "a-100"
   ]
  },
  {
   "cell_type": "code",
   "execution_count": 5,
   "id": "5770c886",
   "metadata": {},
   "outputs": [
    {
     "data": {
      "text/plain": [
       "array([[ 2,  4,  6],\n",
       "       [ 8, 10, 12],\n",
       "       [14, 16, 18]])"
      ]
     },
     "execution_count": 5,
     "metadata": {},
     "output_type": "execute_result"
    }
   ],
   "source": [
    "# Multiplication\n",
    "a*2"
   ]
  },
  {
   "cell_type": "code",
   "execution_count": 6,
   "id": "bd7da219",
   "metadata": {},
   "outputs": [
    {
     "data": {
      "text/plain": [
       "array([[0.5, 1. , 1.5],\n",
       "       [2. , 2.5, 3. ],\n",
       "       [3.5, 4. , 4.5]])"
      ]
     },
     "execution_count": 6,
     "metadata": {},
     "output_type": "execute_result"
    }
   ],
   "source": [
    "# Division\n",
    "a/2"
   ]
  },
  {
   "cell_type": "code",
   "execution_count": 20,
   "id": "5aaaf3f4",
   "metadata": {},
   "outputs": [
    {
     "data": {
      "text/plain": [
       "array([[  1,   8,  27],\n",
       "       [ 64, 125, 216],\n",
       "       [343, 512, 729]], dtype=int32)"
      ]
     },
     "execution_count": 20,
     "metadata": {},
     "output_type": "execute_result"
    }
   ],
   "source": [
    "# Exponentiation\n",
    "a ** 3"
   ]
  },
  {
   "cell_type": "code",
   "execution_count": 16,
   "id": "bd8684c9",
   "metadata": {},
   "outputs": [
    {
     "data": {
      "text/plain": [
       "array([[ 2,  3,  4],\n",
       "       [ 5,  6,  7],\n",
       "       [ 8,  9, 10]])"
      ]
     },
     "execution_count": 16,
     "metadata": {},
     "output_type": "execute_result"
    }
   ],
   "source": [
    "# Increment (Equivalent to a = a + C; where C is a constant)\n",
    "b = a.copy()\n",
    "b += 1\n",
    "b\n",
    "# In the similar fashion, we have:\n",
    "# a -= C\n",
    "# a /= C\n",
    "# a *= C"
   ]
  },
  {
   "cell_type": "code",
   "execution_count": 15,
   "id": "b8fc6eb5",
   "metadata": {},
   "outputs": [
    {
     "name": "stdout",
     "output_type": "stream",
     "text": [
      "c is:\n",
      "[0.         0.6981317  1.3962634  2.0943951  2.7925268  3.4906585\n",
      " 4.1887902  4.88692191 5.58505361 6.28318531]\n",
      "\n",
      "sin of c is: [ 0.00000000e+00  6.42787610e-01  9.84807753e-01  8.66025404e-01\n",
      "  3.42020143e-01 -3.42020143e-01 -8.66025404e-01 -9.84807753e-01\n",
      " -6.42787610e-01 -2.44929360e-16]\n",
      "[ 0.00000000e+00  6.42787610e-01  9.84807753e-01  8.66025404e-01\n",
      "  3.42020143e-01 -3.42020143e-01 -8.66025404e-01 -9.84807753e-01\n",
      " -6.42787610e-01 -2.44929360e-16]\n",
      "\n",
      "cos of c is:\n",
      "[ 1.          0.76604444  0.17364818 -0.5        -0.93969262 -0.93969262\n",
      " -0.5         0.17364818  0.76604444  1.        ]\n"
     ]
    }
   ],
   "source": [
    "# Sin or Cosine\n",
    "c = np.linspace(0, 2*np.pi, 10)\n",
    "print ('c is:')\n",
    "print(c)\n",
    "print('')\n",
    "c_sin = np.sin(c)\n",
    "print('sin of c is:', c_sin)\n",
    "print(c_sin)\n",
    "print('')\n",
    "c_cos = np.cos(c)\n",
    "print('cos of c is:')\n",
    "print(c_cos)"
   ]
  },
  {
   "cell_type": "code",
   "execution_count": 19,
   "id": "305ca0c7",
   "metadata": {},
   "outputs": [
    {
     "name": "stdout",
     "output_type": "stream",
     "text": [
      "d is:\n",
      " [[0 1 2 3 4]\n",
      " [5 6 7 8 9]]\n",
      "e is:\n",
      " [[ 0 -1 -2 -3 -4]\n",
      " [-5 -6 -7 -8 -9]]\n",
      "d+e is:\n",
      "\n"
     ]
    },
    {
     "data": {
      "text/plain": [
       "array([[0, 0, 0, 0, 0],\n",
       "       [0, 0, 0, 0, 0]])"
      ]
     },
     "execution_count": 19,
     "metadata": {},
     "output_type": "execute_result"
    }
   ],
   "source": [
    "# Addition of two matrices\n",
    "d = np.arange(0,10).reshape(2,5)\n",
    "e = np.arange(0,-10,-1).reshape(2,5)\n",
    "print('d is:\\n', d)\n",
    "print('e is:\\n', e)\n",
    "print('d+e is:\\n')\n",
    "d+e\n",
    "# Similarly we have:\n",
    "# a - b\n",
    "# a / b\n",
    "# a * b"
   ]
  }
 ],
 "metadata": {
  "kernelspec": {
   "display_name": "Python 3 (ipykernel)",
   "language": "python",
   "name": "python3"
  },
  "language_info": {
   "codemirror_mode": {
    "name": "ipython",
    "version": 3
   },
   "file_extension": ".py",
   "mimetype": "text/x-python",
   "name": "python",
   "nbconvert_exporter": "python",
   "pygments_lexer": "ipython3",
   "version": "3.11.7"
  }
 },
 "nbformat": 4,
 "nbformat_minor": 5
}
