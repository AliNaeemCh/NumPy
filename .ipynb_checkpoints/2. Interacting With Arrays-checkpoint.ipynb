{
 "cells": [
  {
   "cell_type": "markdown",
   "id": "fc19151e",
   "metadata": {},
   "source": [
    "# Interacting With Arrays"
   ]
  },
  {
   "cell_type": "code",
   "execution_count": 1,
   "id": "5c6cd2c3",
   "metadata": {},
   "outputs": [],
   "source": [
    "import numpy as np"
   ]
  },
  {
   "cell_type": "code",
   "execution_count": 2,
   "id": "d60cb99a",
   "metadata": {
    "scrolled": true
   },
   "outputs": [
    {
     "name": "stdout",
     "output_type": "stream",
     "text": [
      "[[ 1  2  3  4  5]\n",
      " [ 6  7  8  9 10]]\n"
     ]
    }
   ],
   "source": [
    "# A 2x5 array\n",
    "a = np.array([ [1,2,3,4,5], [6,7,8,9,10] ])\n",
    "print(a)"
   ]
  },
  {
   "cell_type": "code",
   "execution_count": null,
   "id": "e8945e92",
   "metadata": {},
   "outputs": [],
   "source": [
    "# Accessing a row\n",
    "a_r1 = a[0,:]\n",
    "print('first row is:', a_r1)"
   ]
  },
  {
   "cell_type": "code",
   "execution_count": null,
   "id": "7bef09e0",
   "metadata": {},
   "outputs": [],
   "source": [
    "# Accessing a column\n",
    "a_c2 = a[:,1]\n",
    "print('second column is:', a_c2)"
   ]
  },
  {
   "cell_type": "code",
   "execution_count": null,
   "id": "80419ab6",
   "metadata": {},
   "outputs": [],
   "source": [
    "# Accessing last element of first row\n",
    "a_04 = a[0,4]\n",
    "print('last element of first row is:',a_04)"
   ]
  },
  {
   "cell_type": "code",
   "execution_count": null,
   "id": "232836e9",
   "metadata": {},
   "outputs": [],
   "source": [
    "# Accessing an element w.r.t end of row or column\n",
    "a_14 = a[-1,-1]  # -1 corresponds to last row/element.\n",
    "a_03 = a[0, -2] # Similarly, -2 means second last row/column\n",
    "print('element corresponding to last row and last column:', a_14)\n",
    "print('element corresponding to first row and second last column:', a_03)"
   ]
  },
  {
   "cell_type": "code",
   "execution_count": null,
   "id": "849efb4f",
   "metadata": {},
   "outputs": [],
   "source": [
    "# Accessing a range of elements (starting_idx:ending_idx+1)\n",
    "a0_1_3 = a[0,1:4]\n",
    "print('elements from first row, indices: 1 to 3:', a0_1_3)"
   ]
  },
  {
   "cell_type": "code",
   "execution_count": null,
   "id": "f49610f5",
   "metadata": {},
   "outputs": [],
   "source": [
    "# Accessing alternate elements (starting_idx:ending_idx+1:step_size). For alternate elements, step_size=2 (pick every 2nd elem)\n",
    "a_alternate = a[:, 0:5:2]\n",
    "print('array with alternate columns are:', a_alternate)"
   ]
  },
  {
   "cell_type": "code",
   "execution_count": null,
   "id": "ee7ef1f9",
   "metadata": {},
   "outputs": [],
   "source": [
    "# Alternate elements with implicit starting, ending indices.\n",
    "# If starting and ending indices are omitted, they are set to start and end of the list, respectively.\n",
    "a_alternate_imp = a[:, ::2]\n",
    "print('array with alternate columns are:', a_alternate_imp)\n"
   ]
  },
  {
   "cell_type": "code",
   "execution_count": null,
   "id": "98eaa713",
   "metadata": {},
   "outputs": [],
   "source": [
    "# Editing an element\n",
    "a_edit1 = a.copy()  # Creating a deep copy of a, so that when a_edit is changed, a remains unedited\n",
    "a_edit1[0,-1] = 100\n",
    "print('a after editing the last element of first row:', a_edit1)"
   ]
  },
  {
   "cell_type": "code",
   "execution_count": null,
   "id": "8fa2705a",
   "metadata": {},
   "outputs": [],
   "source": [
    "# Editing a range of elements\n",
    "a_edit2 = a.copy()\n",
    "a_edit2[:, 1] = 100\n",
    "print('a after second column is assigned a value of 100:', a_edit2)\n",
    "a_edit2[:, -2] = [200, 200]\n",
    "print('a after second last column is assigned a value of 200:', a_edit2)"
   ]
  },
  {
   "cell_type": "code",
   "execution_count": 13,
   "id": "e198fb56",
   "metadata": {},
   "outputs": [
    {
     "name": "stdout",
     "output_type": "stream",
     "text": [
      "1D array is: \n",
      " [ 1  2  3  4  5  6  7  8  9 10]\n",
      "1D array reshaped to 2 rows and 5 columns is: \n",
      " [[ 1  2  3  4  5]\n",
      " [ 6  7  8  9 10]]\n",
      "2D array is: \n",
      " [[ 1  2]\n",
      " [ 3  4]\n",
      " [ 5  6]\n",
      " [ 7  8]\n",
      " [ 9 10]\n",
      " [11 12]]\n",
      "2D array reshaped to 3 rows and 4 columns:\n",
      " [[ 1  2  3  4]\n",
      " [ 5  6  7  8]\n",
      " [ 9 10 11 12]]\n"
     ]
    }
   ],
   "source": [
    "# Reshaping an array (Change of order)\n",
    "# Only condition is that the reshaping order is chosen such that no. of elems in reshaped array = no. of elems in original array\n",
    "b = np.array([1,2,3,4,5,6,7,8,9,10])\n",
    "print('1D array is: \\n', b)\n",
    "c = b.reshape(2,5)\n",
    "print('1D array reshaped to 2 rows and 5 columns is: \\n', c)\n",
    "d = np.array([ [1,2], [3,4], [5,6], [7,8], [9,10], [11,12] ])\n",
    "print('2D array is: \\n', d)\n",
    "e = d.reshape(3,4)\n",
    "print('2D array reshaped to 3 rows and 4 columns:\\n',e)"
   ]
  }
 ],
 "metadata": {
  "kernelspec": {
   "display_name": "Python 3 (ipykernel)",
   "language": "python",
   "name": "python3"
  },
  "language_info": {
   "codemirror_mode": {
    "name": "ipython",
    "version": 3
   },
   "file_extension": ".py",
   "mimetype": "text/x-python",
   "name": "python",
   "nbconvert_exporter": "python",
   "pygments_lexer": "ipython3",
   "version": "3.11.7"
  }
 },
 "nbformat": 4,
 "nbformat_minor": 5
}
